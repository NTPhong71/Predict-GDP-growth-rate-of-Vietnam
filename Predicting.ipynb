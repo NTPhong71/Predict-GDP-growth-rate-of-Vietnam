{
 "cells": [
  {
   "cell_type": "code",
   "execution_count": 2,
   "id": "ad72fd11-a1a2-499b-9be2-bab50e4de60d",
   "metadata": {},
   "outputs": [],
   "source": [
    "import matplotlib.pyplot as plt\n",
    "import datetime as dt\n",
    "import numpy as np\n",
    "import pandas as pd\n",
    "from sklearn.metrics import mean_absolute_error\n",
    "from sklearn.utils.validation import check_is_fitted\n",
    "import statsmodels.api as sm\n",
    "from statsmodels.tsa.arima.model import ARIMA\n",
    "from statsmodels.graphics.tsaplots import plot_predict\n",
    "from datetime import datetime\n",
    "\n",
    "\n"
   ]
  },
  {
   "cell_type": "code",
   "execution_count": 3,
   "id": "8a0d7418-5967-4231-8e83-65662b643cf6",
   "metadata": {},
   "outputs": [],
   "source": [
    "def wrangle(filepath):\n",
    "    \n",
    "    # Read xlsx.file\n",
    "    df = pd.read_excel(filepath)\n",
    "    \n",
    "    df[\"Date\"] = df[\"Year\"].astype(str) + \"-12-31\" # Create a new column with string\n",
    "    \n",
    "    df['Date']= pd.to_datetime(df['Date']) # Change \"Date\" column type to 'date-time' type\n",
    "    \n",
    "    df = df.set_index(\"Date\") # Set index \n",
    "    \n",
    "    df.drop(columns=\"Year\", inplace = True) # Drop 'Year' column\n",
    "    \n",
    "    \n",
    "    \n",
    "    return df\n",
    "    "
   ]
  },
  {
   "cell_type": "code",
   "execution_count": 4,
   "id": "12a873e1-edbd-4c55-a99c-edec9c5dae21",
   "metadata": {},
   "outputs": [
    {
     "data": {
      "text/plain": [
       "<AxesSubplot:xlabel='Date'>"
      ]
     },
     "execution_count": 4,
     "metadata": {},
     "output_type": "execute_result"
    },
    {
     "data": {
      "image/png": "[encoded data removed]",
      "text/plain": [
       "<Figure size 864x360 with 1 Axes>"
      ]
     },
     "metadata": {
      "needs_background": "light"
     },
     "output_type": "display_data"
    }
   ],
   "source": [
    "Data = wrangle('Documents/Real GDP annual growth rate (1986-2018).xlsx')\n",
    "Data['Real GDP growth rate'].plot(figsize=(12,5))"
   ]
  },
  {
   "cell_type": "markdown",
   "id": "a9d7f180-1f49-4b9a-a1fb-41f13df34e34",
   "metadata": {},
   "source": [
    "Check for stationary"
   ]
  },
  {
   "cell_type": "code",
   "execution_count": 5,
   "id": "3a4e6353-4cc6-4739-9fdc-b7c80227244c",
   "metadata": {},
   "outputs": [],
   "source": [
    "from statsmodels.tsa.stattools import adfuller\n",
    "\n",
    "def adfuller_test(dataset):\n",
    "    df_test = adfuller(dataset, autolag='AIC')\n",
    "    print('1. ADF Statistic: %f' % df_test[0])\n",
    "    print('2. p-value: %f' % df_test[1])\n",
    "    print('3. Num of lags: ', df_test[2])\n",
    "    print('4. Num of Obs: ', df_test[3])\n",
    "    print('Critical Values:')\n",
    "    for key, value in df_test[4].items():\n",
    "        print('\\t%s: %.3f' % (key, value))\n",
    "        "
   ]
  },
  {
   "cell_type": "code",
   "execution_count": 6,
   "id": "55d74911-3691-41dd-8e9b-7862eef36942",
   "metadata": {},
   "outputs": [
    {
     "name": "stdout",
     "output_type": "stream",
     "text": [
      "1. ADF Statistic: -3.429359\n",
      "2. p-value: 0.009998\n",
      "3. Num of lags:  1\n",
      "4. Num of Obs:  31\n",
      "Critical Values:\n",
      "\t1%: -3.661\n",
      "\t5%: -2.961\n",
      "\t10%: -2.619\n"
     ]
    }
   ],
   "source": [
    "adfuller_test(Data['Real GDP growth rate'])"
   ]
  },
  {
   "cell_type": "markdown",
   "id": "5b835252-babc-45da-beb8-00d5de4e19c3",
   "metadata": {},
   "source": [
    "0th element = -3.429359 .It is test-statistic, more negative means likely to be stationary\n",
    "p-Value = 0.009998 < 0.05 --> reject null hypothesis --> Reject non-stationary\n",
    "So, this data is stationary"
   ]
  },
  {
   "cell_type": "markdown",
   "id": "a4a8e6fe-7ddc-4d53-b8e2-e05fd89b7ae9",
   "metadata": {},
   "source": [
    "### Figure out order for ARIMA model"
   ]
  },
  {
   "cell_type": "code",
   "execution_count": null,
   "id": "2e00de5d-c01c-486f-a6fe-35588d6d261c",
   "metadata": {},
   "outputs": [],
   "source": [
    "# Because the dataset is stationary, so I set d = 0.\n",
    "# Create empty list to store search results\n",
    "order_aic_bic=[]\n",
    "\n",
    "# Loop over p values from 0-3\n",
    "for p in range(4):\n",
    "  # Loop over q values from 0-3\n",
    "    for q in range(4):\n",
    "      \t# create and fit ARMA(p,q) model\n",
    "        model = sm.tsa.statespace.SARIMAX(Data, order=(p,0,q), trend='c')\n",
    "        results = model.fit()\n",
    "        \n",
    "        # Append order and results tuple\n",
    "        order_aic_bic.append((p, q, results.aic, results.bic))"
   ]
  },
  {
   "cell_type": "code",
   "execution_count": 8,
   "id": "be2b82d8-557f-413f-9ce1-c8dad2c63de6",
   "metadata": {},
   "outputs": [
    {
     "name": "stdout",
     "output_type": "stream",
     "text": [
      "    p  q         AIC         BIC\n",
      "5   1  1 -198.571475 -192.585445\n",
      "4   1  0 -198.566087 -194.076565\n",
      "1   0  1 -198.393029 -193.903506\n",
      "3   0  3 -198.175739 -190.693201\n",
      "8   2  0 -197.679676 -191.693646\n",
      "9   2  1 -197.388154 -189.905617\n",
      "2   0  2 -197.226521 -191.240491\n",
      "6   1  2 -197.103688 -189.621150\n",
      "7   1  3 -196.844746 -187.865700\n",
      "10  2  2 -196.508947 -187.529902\n",
      "13  3  1 -196.419230 -187.440185\n",
      "12  3  0 -196.133950 -188.651412\n",
      "14  3  2 -194.327025 -183.851472\n",
      "15  3  3 -190.651407 -178.679346\n",
      "11  2  3 -188.899416 -178.423863\n",
      "0   0  0 -180.725858 -177.732843\n",
      "    p  q         AIC         BIC\n",
      "4   1  0 -198.566087 -194.076565\n",
      "1   0  1 -198.393029 -193.903506\n",
      "5   1  1 -198.571475 -192.585445\n",
      "8   2  0 -197.679676 -191.693646\n",
      "2   0  2 -197.226521 -191.240491\n",
      "3   0  3 -198.175739 -190.693201\n",
      "9   2  1 -197.388154 -189.905617\n",
      "6   1  2 -197.103688 -189.621150\n",
      "12  3  0 -196.133950 -188.651412\n",
      "7   1  3 -196.844746 -187.865700\n",
      "10  2  2 -196.508947 -187.529902\n",
      "13  3  1 -196.419230 -187.440185\n",
      "14  3  2 -194.327025 -183.851472\n",
      "15  3  3 -190.651407 -178.679346\n",
      "11  2  3 -188.899416 -178.423863\n",
      "0   0  0 -180.725858 -177.732843\n"
     ]
    }
   ],
   "source": [
    "# Construct DataFrame from order_aic_bic\n",
    "order_df = pd.DataFrame(order_aic_bic, \n",
    "                        columns=['p', 'q', 'AIC', 'BIC'])\n",
    "\n",
    "# Print order_df in order of increasing AIC\n",
    "print(order_df.sort_values('AIC'))\n",
    "\n",
    "# Print order_df in order of increasing BIC\n",
    "print(order_df.sort_values('BIC'))"
   ]
  },
  {
   "cell_type": "code",
   "execution_count": 10,
   "id": "a5732e5a-f3f5-484b-870d-d4e817a123f5",
   "metadata": {},
   "outputs": [
    {
     "name": "stderr",
     "output_type": "stream",
     "text": [
      "c:\\users\\admin\\appdata\\local\\programs\\python\\python39\\lib\\site-packages\\statsmodels\\tsa\\base\\tsa_model.py:471: ValueWarning: No frequency information was provided, so inferred frequency A-DEC will be used.\n",
      "  self._init_dates(dates, freq)\n",
      "c:\\users\\admin\\appdata\\local\\programs\\python\\python39\\lib\\site-packages\\statsmodels\\tsa\\base\\tsa_model.py:471: ValueWarning: No frequency information was provided, so inferred frequency A-DEC will be used.\n",
      "  self._init_dates(dates, freq)\n",
      "c:\\users\\admin\\appdata\\local\\programs\\python\\python39\\lib\\site-packages\\statsmodels\\tsa\\base\\tsa_model.py:471: ValueWarning: No frequency information was provided, so inferred frequency A-DEC will be used.\n",
      "  self._init_dates(dates, freq)\n"
     ]
    },
    {
     "data": {
      "text/plain": [
       "<Figure size 1440x1440 with 0 Axes>"
      ]
     },
     "metadata": {},
     "output_type": "display_data"
    },
    {
     "data": {
      "image/png": "[encoded data removed]",
      "text/plain": [
       "<Figure size 432x288 with 4 Axes>"
      ]
     },
     "metadata": {
      "needs_background": "light"
     },
     "output_type": "display_data"
    },
    {
     "name": "stdout",
     "output_type": "stream",
     "text": [
      "                                SARIMAX Results                                 \n",
      "================================================================================\n",
      "Dep. Variable:     Real GDP growth rate   No. Observations:                   33\n",
      "Model:                 SARIMAX(3, 0, 3)   Log Likelihood                 103.326\n",
      "Date:                  Sat, 02 Jul 2022   AIC                           -190.651\n",
      "Time:                          11:19:00   BIC                           -178.679\n",
      "Sample:                      12-31-1986   HQIC                          -186.623\n",
      "                           - 12-31-2018                                         \n",
      "Covariance Type:                    opg                                         \n",
      "==============================================================================\n",
      "                 coef    std err          z      P>|z|      [0.025      0.975]\n",
      "------------------------------------------------------------------------------\n",
      "intercept      0.0318      0.026      1.203      0.229      -0.020       0.084\n",
      "ar.L1          1.4943      0.813      1.839      0.066      -0.098       3.087\n",
      "ar.L2         -1.2771      1.106     -1.155      0.248      -3.445       0.891\n",
      "ar.L3          0.2822      0.513      0.550      0.582      -0.724       1.288\n",
      "ma.L1         -0.5015      0.797     -0.629      0.529      -2.063       1.060\n",
      "ma.L2          0.2053      0.573      0.358      0.720      -0.918       1.329\n",
      "ma.L3          0.5844      0.531      1.101      0.271      -0.456       1.625\n",
      "sigma2         0.0001   3.26e-05      3.337      0.001    4.48e-05       0.000\n",
      "===================================================================================\n",
      "Ljung-Box (L1) (Q):                   0.83   Jarque-Bera (JB):                 2.22\n",
      "Prob(Q):                              0.36   Prob(JB):                         0.33\n",
      "Heteroskedasticity (H):               0.16   Skew:                            -0.60\n",
      "Prob(H) (two-sided):                  0.00   Kurtosis:                         3.41\n",
      "===================================================================================\n",
      "\n",
      "Warnings:\n",
      "[1] Covariance matrix calculated using the outer product of gradients (complex-step).\n"
     ]
    }
   ],
   "source": [
    "# Pair value (1,1) make AIC smallest, then pick (1,1) to order \n",
    "# Fit model\n",
    "model = ARIMA(Data, order=(1,0,1))\n",
    "#results = model.fit()\n",
    "\n",
    "# Check diagnostics\n",
    "plt.figure(figsize = (20, 20))\n",
    "results.plot_diagnostics()\n",
    "plt.show()\n",
    "print(results.summary())"
   ]
  },
  {
   "cell_type": "markdown",
   "id": "8bdf9be0-def6-4796-bfad-912f3ebaef57",
   "metadata": {},
   "source": [
    "### Split Data into Training and Testing"
   ]
  },
  {
   "cell_type": "code",
   "execution_count": 11,
   "id": "f6aee9f8-5038-4b05-a4c8-8640f3dfe1d9",
   "metadata": {},
   "outputs": [
    {
     "name": "stdout",
     "output_type": "stream",
     "text": [
      "(33, 1)\n",
      "(27, 1) (6, 1)\n"
     ]
    }
   ],
   "source": [
    "print(Data.shape)\n",
    "Data_train = Data.loc[:'2012']\n",
    "Data_test = Data.loc['2013':]\n",
    "print(Data_train.shape, Data_test.shape)"
   ]
  },
  {
   "cell_type": "markdown",
   "id": "ae832fd7-f0f7-448d-8a4b-1b6e32e20868",
   "metadata": {},
   "source": [
    "Train the model:\n"
   ]
  },
  {
   "cell_type": "code",
   "execution_count": 12,
   "id": "45cd7307-e020-4210-b334-26ecca23378d",
   "metadata": {},
   "outputs": [
    {
     "name": "stderr",
     "output_type": "stream",
     "text": [
      "c:\\users\\admin\\appdata\\local\\programs\\python\\python39\\lib\\site-packages\\statsmodels\\tsa\\base\\tsa_model.py:471: ValueWarning: No frequency information was provided, so inferred frequency A-DEC will be used.\n",
      "  self._init_dates(dates, freq)\n",
      "c:\\users\\admin\\appdata\\local\\programs\\python\\python39\\lib\\site-packages\\statsmodels\\tsa\\base\\tsa_model.py:471: ValueWarning: No frequency information was provided, so inferred frequency A-DEC will be used.\n",
      "  self._init_dates(dates, freq)\n",
      "c:\\users\\admin\\appdata\\local\\programs\\python\\python39\\lib\\site-packages\\statsmodels\\tsa\\base\\tsa_model.py:471: ValueWarning: No frequency information was provided, so inferred frequency A-DEC will be used.\n",
      "  self._init_dates(dates, freq)\n"
     ]
    },
    {
     "data": {
      "text/html": [
       "<table class=\"simpletable\">\n",
       "<caption>SARIMAX Results</caption>\n",
       "<tr>\n",
       "  <th>Dep. Variable:</th>   <td>Real GDP growth rate</td> <th>  No. Observations:  </th>    <td>27</td>   \n",
       "</tr>\n",
       "<tr>\n",
       "  <th>Model:</th>              <td>ARIMA(1, 0, 1)</td>    <th>  Log Likelihood     </th>  <td>82.200</td> \n",
       "</tr>\n",
       "<tr>\n",
       "  <th>Date:</th>              <td>Sat, 02 Jul 2022</td>   <th>  AIC                </th> <td>-156.399</td>\n",
       "</tr>\n",
       "<tr>\n",
       "  <th>Time:</th>                  <td>11:19:12</td>       <th>  BIC                </th> <td>-151.216</td>\n",
       "</tr>\n",
       "<tr>\n",
       "  <th>Sample:</th>               <td>12-31-1986</td>      <th>  HQIC               </th> <td>-154.858</td>\n",
       "</tr>\n",
       "<tr>\n",
       "  <th></th>                     <td>- 12-31-2012</td>     <th>                     </th>     <td> </td>   \n",
       "</tr>\n",
       "<tr>\n",
       "  <th>Covariance Type:</th>          <td>opg</td>         <th>                     </th>     <td> </td>   \n",
       "</tr>\n",
       "</table>\n",
       "<table class=\"simpletable\">\n",
       "<tr>\n",
       "     <td></td>       <th>coef</th>     <th>std err</th>      <th>z</th>      <th>P>|z|</th>  <th>[0.025</th>    <th>0.975]</th>  \n",
       "</tr>\n",
       "<tr>\n",
       "  <th>const</th>  <td>    0.0634</td> <td>    0.006</td> <td>   11.201</td> <td> 0.000</td> <td>    0.052</td> <td>    0.074</td>\n",
       "</tr>\n",
       "<tr>\n",
       "  <th>ar.L1</th>  <td>    0.4418</td> <td>    0.265</td> <td>    1.668</td> <td> 0.095</td> <td>   -0.077</td> <td>    0.961</td>\n",
       "</tr>\n",
       "<tr>\n",
       "  <th>ma.L1</th>  <td>    0.5520</td> <td>    0.210</td> <td>    2.628</td> <td> 0.009</td> <td>    0.140</td> <td>    0.964</td>\n",
       "</tr>\n",
       "<tr>\n",
       "  <th>sigma2</th> <td>    0.0001</td> <td> 4.27e-05</td> <td>    2.993</td> <td> 0.003</td> <td> 4.41e-05</td> <td>    0.000</td>\n",
       "</tr>\n",
       "</table>\n",
       "<table class=\"simpletable\">\n",
       "<tr>\n",
       "  <th>Ljung-Box (L1) (Q):</th>     <td>0.57</td> <th>  Jarque-Bera (JB):  </th> <td>1.31</td> \n",
       "</tr>\n",
       "<tr>\n",
       "  <th>Prob(Q):</th>                <td>0.45</td> <th>  Prob(JB):          </th> <td>0.52</td> \n",
       "</tr>\n",
       "<tr>\n",
       "  <th>Heteroskedasticity (H):</th> <td>0.17</td> <th>  Skew:              </th> <td>-0.52</td>\n",
       "</tr>\n",
       "<tr>\n",
       "  <th>Prob(H) (two-sided):</th>    <td>0.01</td> <th>  Kurtosis:          </th> <td>2.75</td> \n",
       "</tr>\n",
       "</table><br/><br/>Warnings:<br/>[1] Covariance matrix calculated using the outer product of gradients (complex-step)."
      ],
      "text/plain": [
       "<class 'statsmodels.iolib.summary.Summary'>\n",
       "\"\"\"\n",
       "                                SARIMAX Results                                 \n",
       "================================================================================\n",
       "Dep. Variable:     Real GDP growth rate   No. Observations:                   27\n",
       "Model:                   ARIMA(1, 0, 1)   Log Likelihood                  82.200\n",
       "Date:                  Sat, 02 Jul 2022   AIC                           -156.399\n",
       "Time:                          11:19:12   BIC                           -151.216\n",
       "Sample:                      12-31-1986   HQIC                          -154.858\n",
       "                           - 12-31-2012                                         \n",
       "Covariance Type:                    opg                                         \n",
       "==============================================================================\n",
       "                 coef    std err          z      P>|z|      [0.025      0.975]\n",
       "------------------------------------------------------------------------------\n",
       "const          0.0634      0.006     11.201      0.000       0.052       0.074\n",
       "ar.L1          0.4418      0.265      1.668      0.095      -0.077       0.961\n",
       "ma.L1          0.5520      0.210      2.628      0.009       0.140       0.964\n",
       "sigma2         0.0001   4.27e-05      2.993      0.003    4.41e-05       0.000\n",
       "===================================================================================\n",
       "Ljung-Box (L1) (Q):                   0.57   Jarque-Bera (JB):                 1.31\n",
       "Prob(Q):                              0.45   Prob(JB):                         0.52\n",
       "Heteroskedasticity (H):               0.17   Skew:                            -0.52\n",
       "Prob(H) (two-sided):                  0.01   Kurtosis:                         2.75\n",
       "===================================================================================\n",
       "\n",
       "Warnings:\n",
       "[1] Covariance matrix calculated using the outer product of gradients (complex-step).\n",
       "\"\"\""
      ]
     },
     "execution_count": 12,
     "metadata": {},
     "output_type": "execute_result"
    }
   ],
   "source": [
    "model = ARIMA(Data_train['Real GDP growth rate'], order = (1,0,1))\n",
    "model = model.fit()\n",
    "model.summary()"
   ]
  },
  {
   "cell_type": "markdown",
   "id": "35d73359-2add-4a25-b4f8-4f6e5155cea6",
   "metadata": {},
   "source": [
    "### Make prediction on test set:"
   ]
  },
  {
   "cell_type": "code",
   "execution_count": 13,
   "id": "ba17d787-f789-4b1b-85c3-6a6993081578",
   "metadata": {},
   "outputs": [
    {
     "name": "stdout",
     "output_type": "stream",
     "text": [
      "2013-12-31    0.053951\n",
      "2014-12-31    0.059204\n",
      "2015-12-31    0.061525\n",
      "2016-12-31    0.062550\n",
      "2017-12-31    0.063003\n",
      "2018-12-31    0.063203\n",
      "Freq: A-DEC, Name: predicted_mean, dtype: float64\n"
     ]
    }
   ],
   "source": [
    "start = len(Data_train)\n",
    "end = len(Data_train) + len(Data_test) -1\n",
    "pred = model.predict(start=start, end=end, type='level')\n",
    "print(pred)"
   ]
  },
  {
   "cell_type": "code",
   "execution_count": 14,
   "id": "96159b94-26cc-4491-af89-600867750ed6",
   "metadata": {},
   "outputs": [
    {
     "data": {
      "text/plain": [
       "<AxesSubplot:xlabel='Date'>"
      ]
     },
     "execution_count": 14,
     "metadata": {},
     "output_type": "execute_result"
    },
    {
     "data": {
      "image/png": "[encoded data removed]",
      "text/plain": [
       "<Figure size 432x288 with 1 Axes>"
      ]
     },
     "metadata": {
      "needs_background": "light"
     },
     "output_type": "display_data"
    }
   ],
   "source": [
    "pred.plot(legend=True)\n",
    "Data_test['Real GDP growth rate'].plot(legend=True)"
   ]
  },
  {
   "cell_type": "code",
   "execution_count": 15,
   "id": "e666aeea-dfc5-4f9c-ab13-b3435aebee8c",
   "metadata": {},
   "outputs": [
    {
     "data": {
      "text/plain": [
       "Real GDP growth rate    0.062846\n",
       "dtype: float64"
      ]
     },
     "execution_count": 15,
     "metadata": {},
     "output_type": "execute_result"
    }
   ],
   "source": [
    "Data_test.mean()"
   ]
  },
  {
   "cell_type": "code",
   "execution_count": 16,
   "id": "3f3ec631-44fb-4989-bf5b-161db195543a",
   "metadata": {},
   "outputs": [
    {
     "name": "stdout",
     "output_type": "stream",
     "text": [
      "0.003226467471880654\n"
     ]
    }
   ],
   "source": [
    "from sklearn.metrics import mean_squared_error\n",
    "from math import sqrt\n",
    "rmse = sqrt(mean_squared_error(pred, Data_test['Real GDP growth rate']))\n",
    "print(rmse)"
   ]
  },
  {
   "cell_type": "code",
   "execution_count": 30,
   "id": "1768969e-80b3-4cb5-bdd2-8e68ac37f40f",
   "metadata": {},
   "outputs": [
    {
     "name": "stderr",
     "output_type": "stream",
     "text": [
      "c:\\users\\admin\\appdata\\local\\programs\\python\\python39\\lib\\site-packages\\statsmodels\\tsa\\base\\tsa_model.py:471: ValueWarning: No frequency information was provided, so inferred frequency A-DEC will be used.\n",
      "  self._init_dates(dates, freq)\n",
      "c:\\users\\admin\\appdata\\local\\programs\\python\\python39\\lib\\site-packages\\statsmodels\\tsa\\base\\tsa_model.py:471: ValueWarning: No frequency information was provided, so inferred frequency A-DEC will be used.\n",
      "  self._init_dates(dates, freq)\n",
      "c:\\users\\admin\\appdata\\local\\programs\\python\\python39\\lib\\site-packages\\statsmodels\\tsa\\base\\tsa_model.py:471: ValueWarning: No frequency information was provided, so inferred frequency A-DEC will be used.\n",
      "  self._init_dates(dates, freq)\n"
     ]
    },
    {
     "data": {
      "text/html": [
       "<div>\n",
       "<style scoped>\n",
       "    .dataframe tbody tr th:only-of-type {\n",
       "        vertical-align: middle;\n",
       "    }\n",
       "\n",
       "    .dataframe tbody tr th {\n",
       "        vertical-align: top;\n",
       "    }\n",
       "\n",
       "    .dataframe thead th {\n",
       "        text-align: right;\n",
       "    }\n",
       "</style>\n",
       "<table border=\"1\" class=\"dataframe\">\n",
       "  <thead>\n",
       "    <tr style=\"text-align: right;\">\n",
       "      <th></th>\n",
       "      <th>Real GDP growth rate</th>\n",
       "    </tr>\n",
       "    <tr>\n",
       "      <th>Date</th>\n",
       "      <th></th>\n",
       "    </tr>\n",
       "  </thead>\n",
       "  <tbody>\n",
       "    <tr>\n",
       "      <th>2014-12-31</th>\n",
       "      <td>0.059837</td>\n",
       "    </tr>\n",
       "    <tr>\n",
       "      <th>2015-12-31</th>\n",
       "      <td>0.066793</td>\n",
       "    </tr>\n",
       "    <tr>\n",
       "      <th>2016-12-31</th>\n",
       "      <td>0.062108</td>\n",
       "    </tr>\n",
       "    <tr>\n",
       "      <th>2017-12-31</th>\n",
       "      <td>0.068122</td>\n",
       "    </tr>\n",
       "    <tr>\n",
       "      <th>2018-12-31</th>\n",
       "      <td>0.066000</td>\n",
       "    </tr>\n",
       "  </tbody>\n",
       "</table>\n",
       "</div>"
      ],
      "text/plain": [
       "            Real GDP growth rate\n",
       "Date                            \n",
       "2014-12-31              0.059837\n",
       "2015-12-31              0.066793\n",
       "2016-12-31              0.062108\n",
       "2017-12-31              0.068122\n",
       "2018-12-31              0.066000"
      ]
     },
     "execution_count": 30,
     "metadata": {},
     "output_type": "execute_result"
    }
   ],
   "source": [
    "modelX = ARIMA(Data['Real GDP growth rate'], order=(1,0,0))\n",
    "modelX = modelX.fit()\n",
    "Data.tail()"
   ]
  },
  {
   "cell_type": "code",
   "execution_count": 34,
   "id": "a2cc5a6f-a4f5-49d3-a228-e265e390c9fa",
   "metadata": {},
   "outputs": [
    {
     "name": "stdout",
     "output_type": "stream",
     "text": [
      "2018-12-31    0.066635\n",
      "2019-12-31    0.065087\n",
      "2020-12-31    0.064420\n",
      "2021-12-31    0.063934\n",
      "2022-12-31    0.063580\n",
      "Freq: A-DEC, Name: Arima Prediction, dtype: float64\n"
     ]
    }
   ],
   "source": [
    "pred = modelX.predict(start=len(Data)-33, end=len(Data)+3, typ='level').rename('Arima Prediction')\n",
    "print(pred.tail())"
   ]
  },
  {
   "cell_type": "code",
   "execution_count": 32,
   "id": "6399a48f-72a1-4954-a9d0-fa26838ac9dc",
   "metadata": {},
   "outputs": [
    {
     "data": {
      "text/plain": [
       "<AxesSubplot:>"
      ]
     },
     "execution_count": 32,
     "metadata": {},
     "output_type": "execute_result"
    },
    {
     "data": {
      "image/png": "[encoded data removed]",
      "text/plain": [
       "<Figure size 864x360 with 1 Axes>"
      ]
     },
     "metadata": {
      "needs_background": "light"
     },
     "output_type": "display_data"
    }
   ],
   "source": [
    "pred.plot(figsize=(12,5), legend=True)"
   ]
  },
  {
   "cell_type": "code",
   "execution_count": 33,
   "id": "f4824386-8972-401d-9e9f-b07ffed094d0",
   "metadata": {},
   "outputs": [
    {
     "data": {
      "image/png": "[encoded data removed]",
      "text/plain": [
       "<Figure size 432x288 with 1 Axes>"
      ]
     },
     "metadata": {
      "needs_background": "light"
     },
     "output_type": "display_data"
    }
   ],
   "source": [
    "\n",
    "plt.plot(Data)\n",
    "plt.plot(pred, color='r')\n",
    "plt.show()"
   ]
  },
  {
   "cell_type": "markdown",
   "id": "22420e3f-d826-40ea-a51d-c04f59ad8562",
   "metadata": {},
   "source": [
    "In the above plot, we can see the \"red line\" is one year slower than the \"blue line\". Then I use shift(-1) below, to get suitable\n",
    "data follow year"
   ]
  },
  {
   "cell_type": "code",
   "execution_count": 35,
   "id": "aa08a704-d672-47cb-b921-b0f113fb3564",
   "metadata": {},
   "outputs": [
    {
     "data": {
      "text/plain": [
       "1986-12-31    0.037288\n",
       "1987-12-31    0.043082\n",
       "1988-12-31    0.054400\n",
       "1989-12-31    0.070664\n",
       "1990-12-31    0.054151\n",
       "1991-12-31    0.060424\n",
       "1992-12-31    0.080012\n",
       "1993-12-31    0.075830\n",
       "1994-12-31    0.081420\n",
       "1995-12-31    0.086537\n",
       "1996-12-31    0.085075\n",
       "1997-12-31    0.076409\n",
       "1998-12-31    0.058991\n",
       "1999-12-31    0.051763\n",
       "2000-12-31    0.066453\n",
       "2001-12-31    0.062117\n",
       "2002-12-31    0.063050\n",
       "2003-12-31    0.067268\n",
       "2004-12-31    0.071918\n",
       "2005-12-31    0.071997\n",
       "2006-12-31    0.067844\n",
       "2007-12-31    0.068949\n",
       "2008-12-31    0.058242\n",
       "2009-12-31    0.056317\n",
       "2010-12-31    0.063797\n",
       "2011-12-31    0.062463\n",
       "2012-12-31    0.055219\n",
       "2013-12-31    0.056492\n",
       "2014-12-31    0.060590\n",
       "2015-12-31    0.065665\n",
       "2016-12-31    0.062248\n",
       "2017-12-31    0.066635\n",
       "2018-12-31    0.065087\n",
       "2019-12-31    0.064420\n",
       "2020-12-31    0.063934\n",
       "2021-12-31    0.063580\n",
       "Freq: A-DEC, Name: Arima Prediction, dtype: float64"
      ]
     },
     "execution_count": 35,
     "metadata": {},
     "output_type": "execute_result"
    }
   ],
   "source": [
    "pred_fix = pred.shift(-1).dropna()\n",
    "pred_fix"
   ]
  },
  {
   "cell_type": "code",
   "execution_count": 163,
   "id": "8f164810-06f0-4387-ba1b-29da8e32338f",
   "metadata": {},
   "outputs": [
    {
     "data": {
      "image/png": "[encoded data removed]",
      "text/plain": [
       "<Figure size 432x288 with 1 Axes>"
      ]
     },
     "metadata": {
      "needs_background": "light"
     },
     "output_type": "display_data"
    }
   ],
   "source": [
    "plt.plot(Data, label = 'Raw data')\n",
    "plt.plot(pred_fix, color='r', label = 'Predicted data')\n",
    "leg = plt.legend(loc='upper right')\n",
    "plt.show()"
   ]
  },
  {
   "cell_type": "markdown",
   "id": "ca9c17b2-2b48-4a6c-b2c5-9ed4c0f48cad",
   "metadata": {},
   "source": [
    "### PREDICTED RESULTS\n",
    "The GDP growth rate of 2019 = 6,44%\n",
    ", The GDP growth rate of 2020 = 6,39%\n",
    ", The GDP growth rate of 2021 = 6,35%"
   ]
  },
  {
   "cell_type": "markdown",
   "id": "58b31cbc-9e87-49df-8e49-bba357543b51",
   "metadata": {},
   "source": [
    "### ASSUMING DATA\n",
    "Assuming, in 2019 have economic-crisis and the GDP growth rate of VietNam fell -0,1%.\n",
    "We set the value the GDP growth rate of 31/12/2019 as -0,001"
   ]
  },
  {
   "cell_type": "code",
   "execution_count": 37,
   "id": "1529ce1a-274f-4cf9-9a2c-2599919fb077",
   "metadata": {},
   "outputs": [
    {
     "data": {
      "text/html": [
       "<div>\n",
       "<style scoped>\n",
       "    .dataframe tbody tr th:only-of-type {\n",
       "        vertical-align: middle;\n",
       "    }\n",
       "\n",
       "    .dataframe tbody tr th {\n",
       "        vertical-align: top;\n",
       "    }\n",
       "\n",
       "    .dataframe thead th {\n",
       "        text-align: right;\n",
       "    }\n",
       "</style>\n",
       "<table border=\"1\" class=\"dataframe\">\n",
       "  <thead>\n",
       "    <tr style=\"text-align: right;\">\n",
       "      <th></th>\n",
       "      <th>Real GDP growth rate</th>\n",
       "    </tr>\n",
       "    <tr>\n",
       "      <th>Date</th>\n",
       "      <th></th>\n",
       "    </tr>\n",
       "  </thead>\n",
       "  <tbody>\n",
       "    <tr>\n",
       "      <th>1986-12-31</th>\n",
       "      <td>0.027893</td>\n",
       "    </tr>\n",
       "    <tr>\n",
       "      <th>1987-12-31</th>\n",
       "      <td>0.035835</td>\n",
       "    </tr>\n",
       "    <tr>\n",
       "      <th>1988-12-31</th>\n",
       "      <td>0.051350</td>\n",
       "    </tr>\n",
       "    <tr>\n",
       "      <th>1989-12-31</th>\n",
       "      <td>0.073645</td>\n",
       "    </tr>\n",
       "    <tr>\n",
       "      <th>1990-12-31</th>\n",
       "      <td>0.051009</td>\n",
       "    </tr>\n",
       "    <tr>\n",
       "      <th>1991-12-31</th>\n",
       "      <td>0.059608</td>\n",
       "    </tr>\n",
       "    <tr>\n",
       "      <th>1992-12-31</th>\n",
       "      <td>0.086460</td>\n",
       "    </tr>\n",
       "    <tr>\n",
       "      <th>1993-12-31</th>\n",
       "      <td>0.080727</td>\n",
       "    </tr>\n",
       "    <tr>\n",
       "      <th>1994-12-31</th>\n",
       "      <td>0.088390</td>\n",
       "    </tr>\n",
       "    <tr>\n",
       "      <th>1995-12-31</th>\n",
       "      <td>0.095405</td>\n",
       "    </tr>\n",
       "    <tr>\n",
       "      <th>1996-12-31</th>\n",
       "      <td>0.093400</td>\n",
       "    </tr>\n",
       "    <tr>\n",
       "      <th>1997-12-31</th>\n",
       "      <td>0.081521</td>\n",
       "    </tr>\n",
       "    <tr>\n",
       "      <th>1998-12-31</th>\n",
       "      <td>0.057645</td>\n",
       "    </tr>\n",
       "    <tr>\n",
       "      <th>1999-12-31</th>\n",
       "      <td>0.047736</td>\n",
       "    </tr>\n",
       "    <tr>\n",
       "      <th>2000-12-31</th>\n",
       "      <td>0.067873</td>\n",
       "    </tr>\n",
       "    <tr>\n",
       "      <th>2001-12-31</th>\n",
       "      <td>0.061929</td>\n",
       "    </tr>\n",
       "    <tr>\n",
       "      <th>2002-12-31</th>\n",
       "      <td>0.063208</td>\n",
       "    </tr>\n",
       "    <tr>\n",
       "      <th>2003-12-31</th>\n",
       "      <td>0.068991</td>\n",
       "    </tr>\n",
       "    <tr>\n",
       "      <th>2004-12-31</th>\n",
       "      <td>0.075364</td>\n",
       "    </tr>\n",
       "    <tr>\n",
       "      <th>2005-12-31</th>\n",
       "      <td>0.075472</td>\n",
       "    </tr>\n",
       "    <tr>\n",
       "      <th>2006-12-31</th>\n",
       "      <td>0.069780</td>\n",
       "    </tr>\n",
       "    <tr>\n",
       "      <th>2007-12-31</th>\n",
       "      <td>0.071295</td>\n",
       "    </tr>\n",
       "    <tr>\n",
       "      <th>2008-12-31</th>\n",
       "      <td>0.056618</td>\n",
       "    </tr>\n",
       "    <tr>\n",
       "      <th>2009-12-31</th>\n",
       "      <td>0.053979</td>\n",
       "    </tr>\n",
       "    <tr>\n",
       "      <th>2010-12-31</th>\n",
       "      <td>0.064232</td>\n",
       "    </tr>\n",
       "    <tr>\n",
       "      <th>2011-12-31</th>\n",
       "      <td>0.062403</td>\n",
       "    </tr>\n",
       "    <tr>\n",
       "      <th>2012-12-31</th>\n",
       "      <td>0.052474</td>\n",
       "    </tr>\n",
       "    <tr>\n",
       "      <th>2013-12-31</th>\n",
       "      <td>0.054219</td>\n",
       "    </tr>\n",
       "    <tr>\n",
       "      <th>2014-12-31</th>\n",
       "      <td>0.059837</td>\n",
       "    </tr>\n",
       "    <tr>\n",
       "      <th>2015-12-31</th>\n",
       "      <td>0.066793</td>\n",
       "    </tr>\n",
       "    <tr>\n",
       "      <th>2016-12-31</th>\n",
       "      <td>0.062108</td>\n",
       "    </tr>\n",
       "    <tr>\n",
       "      <th>2017-12-31</th>\n",
       "      <td>0.068122</td>\n",
       "    </tr>\n",
       "    <tr>\n",
       "      <th>2018-12-31</th>\n",
       "      <td>0.066000</td>\n",
       "    </tr>\n",
       "    <tr>\n",
       "      <th>2019-12-31</th>\n",
       "      <td>-0.001000</td>\n",
       "    </tr>\n",
       "  </tbody>\n",
       "</table>\n",
       "</div>"
      ],
      "text/plain": [
       "            Real GDP growth rate\n",
       "Date                            \n",
       "1986-12-31              0.027893\n",
       "1987-12-31              0.035835\n",
       "1988-12-31              0.051350\n",
       "1989-12-31              0.073645\n",
       "1990-12-31              0.051009\n",
       "1991-12-31              0.059608\n",
       "1992-12-31              0.086460\n",
       "1993-12-31              0.080727\n",
       "1994-12-31              0.088390\n",
       "1995-12-31              0.095405\n",
       "1996-12-31              0.093400\n",
       "1997-12-31              0.081521\n",
       "1998-12-31              0.057645\n",
       "1999-12-31              0.047736\n",
       "2000-12-31              0.067873\n",
       "2001-12-31              0.061929\n",
       "2002-12-31              0.063208\n",
       "2003-12-31              0.068991\n",
       "2004-12-31              0.075364\n",
       "2005-12-31              0.075472\n",
       "2006-12-31              0.069780\n",
       "2007-12-31              0.071295\n",
       "2008-12-31              0.056618\n",
       "2009-12-31              0.053979\n",
       "2010-12-31              0.064232\n",
       "2011-12-31              0.062403\n",
       "2012-12-31              0.052474\n",
       "2013-12-31              0.054219\n",
       "2014-12-31              0.059837\n",
       "2015-12-31              0.066793\n",
       "2016-12-31              0.062108\n",
       "2017-12-31              0.068122\n",
       "2018-12-31              0.066000\n",
       "2019-12-31             -0.001000"
      ]
     },
     "execution_count": 37,
     "metadata": {},
     "output_type": "execute_result"
    }
   ],
   "source": [
    "Data2 = wrangle('Documents/GDP annual growth rate (1986-2019).xlsx')\n",
    "Data2"
   ]
  },
  {
   "cell_type": "code",
   "execution_count": 38,
   "id": "c1e47a45-e2a8-467b-86b0-595f3aeb7f58",
   "metadata": {},
   "outputs": [
    {
     "name": "stdout",
     "output_type": "stream",
     "text": [
      "1. ADF Statistic: -2.157250\n",
      "2. p-value: 0.222125\n",
      "3. Num of lags:  0\n",
      "4. Num of Obs:  33\n",
      "Critical Values:\n",
      "\t1%: -3.646\n",
      "\t5%: -2.954\n",
      "\t10%: -2.616\n"
     ]
    }
   ],
   "source": [
    "adfuller_test(Data2['Real GDP growth rate'])"
   ]
  },
  {
   "cell_type": "markdown",
   "id": "3efecdb6-9694-4fd2-8eb2-ec1c95aa3183",
   "metadata": {
    "jp-MarkdownHeadingCollapsed": true,
    "tags": []
   },
   "source": []
  },
  {
   "cell_type": "markdown",
   "id": "f7f89937-dfff-4caf-ac33-6d917b5051ae",
   "metadata": {},
   "source": [
    "p-value = 0.222125 > 0.05 => Accept null hypothesis --> Accept non-stationary So, this data is non-stationary"
   ]
  },
  {
   "cell_type": "markdown",
   "id": "9bb3550f-f854-40e4-bd6b-95d3196f9f46",
   "metadata": {},
   "source": [
    "### Take the first difference of the data\n"
   ]
  },
  {
   "cell_type": "code",
   "execution_count": 88,
   "id": "671d5065-4fe9-4802-bbdd-2e076c9bed75",
   "metadata": {},
   "outputs": [],
   "source": [
    "Data2_diff = Data2.diff().dropna()"
   ]
  },
  {
   "cell_type": "code",
   "execution_count": 89,
   "id": "4e8272b5-0e03-4c6d-a909-7a814b696bec",
   "metadata": {},
   "outputs": [
    {
     "name": "stdout",
     "output_type": "stream",
     "text": [
      "1. ADF Statistic: -3.553859\n",
      "2. p-value: 0.006707\n",
      "3. Num of lags:  1\n",
      "4. Num of Obs:  31\n",
      "Critical Values:\n",
      "\t1%: -3.661\n",
      "\t5%: -2.961\n",
      "\t10%: -2.619\n"
     ]
    }
   ],
   "source": [
    "# Test adf data2_diff\n",
    "adfuller_test(Data2_diff['Real GDP growth rate'])"
   ]
  },
  {
   "cell_type": "markdown",
   "id": "f5d8e8d7-919d-4488-b813-1f839c652db6",
   "metadata": {},
   "source": [
    "ADF Statistic = -3.553859 < 0 , p-value = 0.006707 < 0.05 =>> Data2_diff is stationary"
   ]
  },
  {
   "cell_type": "markdown",
   "id": "9a4272f6-8b54-42ef-bd1f-5dc49615949d",
   "metadata": {},
   "source": [
    "### Figure out order for ARIMA model"
   ]
  },
  {
   "cell_type": "code",
   "execution_count": null,
   "id": "1ab87021-92cf-49ad-b741-09a7434cb7b3",
   "metadata": {},
   "outputs": [],
   "source": [
    "# Data2_diff is stationary => set D = 0\n",
    "# Create empty list to store search results\n",
    "order_aic_bic1=[]\n",
    "\n",
    "# Loop over p values from 0-3\n",
    "for p in range(4):\n",
    "  # Loop over q values from 0-3\n",
    "    for q in range(4):\n",
    "      \t# create and fit ARMA(p,q) model\n",
    "        model1 = sm.tsa.statespace.SARIMAX(Data2_diff, order=(p,0,q), trend='c')\n",
    "        results1 = model1.fit()\n",
    "        \n",
    "        # Append order and results tuple\n",
    "        order_aic_bic1.append((p, q, results1.aic, results1.bic))"
   ]
  },
  {
   "cell_type": "code",
   "execution_count": 91,
   "id": "923972a7-2152-4e1b-ac43-2082cb29148f",
   "metadata": {},
   "outputs": [
    {
     "name": "stdout",
     "output_type": "stream",
     "text": [
      "    p  q         AIC         BIC\n",
      "2   0  2 -175.333368 -169.347338\n",
      "5   1  1 -174.632094 -168.646063\n",
      "0   0  0 -174.481892 -171.488877\n",
      "9   2  1 -173.605790 -166.123252\n",
      "6   1  2 -173.540500 -166.057962\n",
      "1   0  1 -172.626067 -168.136544\n",
      "4   1  0 -172.520488 -168.030966\n",
      "8   2  0 -172.371728 -166.385697\n",
      "3   0  3 -172.327493 -164.844955\n",
      "10  2  2 -171.544179 -162.565134\n",
      "7   1  3 -171.337859 -162.358814\n",
      "12  3  0 -171.310515 -163.827977\n",
      "13  3  1 -170.849107 -161.870061\n",
      "14  3  2 -169.804447 -159.328894\n",
      "11  2  3 -168.923765 -158.448212\n",
      "15  3  3 -167.134474 -155.162414\n",
      "    p  q         AIC         BIC\n",
      "0   0  0 -174.481892 -171.488877\n",
      "2   0  2 -175.333368 -169.347338\n",
      "5   1  1 -174.632094 -168.646063\n",
      "1   0  1 -172.626067 -168.136544\n",
      "4   1  0 -172.520488 -168.030966\n",
      "8   2  0 -172.371728 -166.385697\n",
      "9   2  1 -173.605790 -166.123252\n",
      "6   1  2 -173.540500 -166.057962\n",
      "3   0  3 -172.327493 -164.844955\n",
      "12  3  0 -171.310515 -163.827977\n",
      "10  2  2 -171.544179 -162.565134\n",
      "7   1  3 -171.337859 -162.358814\n",
      "13  3  1 -170.849107 -161.870061\n",
      "14  3  2 -169.804447 -159.328894\n",
      "11  2  3 -168.923765 -158.448212\n",
      "15  3  3 -167.134474 -155.162414\n"
     ]
    }
   ],
   "source": [
    "# Construct DataFrame from order_aic_bic\n",
    "order_df1 = pd.DataFrame(order_aic_bic1, \n",
    "                        columns=['p', 'q', 'AIC', 'BIC'])\n",
    "\n",
    "# Print order_df in order of increasing AIC\n",
    "print(order_df1.sort_values('AIC'))\n",
    "\n",
    "# Print order_df in order of increasing BIC\n",
    "print(order_df1.sort_values('BIC'))"
   ]
  },
  {
   "cell_type": "markdown",
   "id": "4d241e8c-969e-4859-8548-fdc7a95be669",
   "metadata": {},
   "source": [
    "Choose (p,q) = (0,2)"
   ]
  },
  {
   "cell_type": "code",
   "execution_count": 105,
   "id": "47d9252e-e5b3-43a7-aa69-5c7d491fa4f5",
   "metadata": {},
   "outputs": [
    {
     "name": "stderr",
     "output_type": "stream",
     "text": [
      "c:\\users\\admin\\appdata\\local\\programs\\python\\python39\\lib\\site-packages\\statsmodels\\tsa\\base\\tsa_model.py:471: ValueWarning: No frequency information was provided, so inferred frequency A-DEC will be used.\n",
      "  self._init_dates(dates, freq)\n",
      "c:\\users\\admin\\appdata\\local\\programs\\python\\python39\\lib\\site-packages\\statsmodels\\tsa\\base\\tsa_model.py:471: ValueWarning: No frequency information was provided, so inferred frequency A-DEC will be used.\n",
      "  self._init_dates(dates, freq)\n",
      "c:\\users\\admin\\appdata\\local\\programs\\python\\python39\\lib\\site-packages\\statsmodels\\tsa\\base\\tsa_model.py:471: ValueWarning: No frequency information was provided, so inferred frequency A-DEC will be used.\n",
      "  self._init_dates(dates, freq)\n"
     ]
    },
    {
     "data": {
      "text/plain": [
       "<Figure size 1440x1440 with 0 Axes>"
      ]
     },
     "metadata": {},
     "output_type": "display_data"
    },
    {
     "data": {
      "image/png": "[encoded data removed]",
      "text/plain": [
       "<Figure size 432x288 with 4 Axes>"
      ]
     },
     "metadata": {
      "needs_background": "light"
     },
     "output_type": "display_data"
    },
    {
     "name": "stdout",
     "output_type": "stream",
     "text": [
      "                                SARIMAX Results                                 \n",
      "================================================================================\n",
      "Dep. Variable:     Real GDP growth rate   No. Observations:                   33\n",
      "Model:                 SARIMAX(3, 0, 3)   Log Likelihood                 103.326\n",
      "Date:                  Sat, 02 Jul 2022   AIC                           -190.651\n",
      "Time:                          11:39:27   BIC                           -178.679\n",
      "Sample:                      12-31-1986   HQIC                          -186.623\n",
      "                           - 12-31-2018                                         \n",
      "Covariance Type:                    opg                                         \n",
      "==============================================================================\n",
      "                 coef    std err          z      P>|z|      [0.025      0.975]\n",
      "------------------------------------------------------------------------------\n",
      "intercept      0.0318      0.026      1.203      0.229      -0.020       0.084\n",
      "ar.L1          1.4943      0.813      1.839      0.066      -0.098       3.087\n",
      "ar.L2         -1.2771      1.106     -1.155      0.248      -3.445       0.891\n",
      "ar.L3          0.2822      0.513      0.550      0.582      -0.724       1.288\n",
      "ma.L1         -0.5015      0.797     -0.629      0.529      -2.063       1.060\n",
      "ma.L2          0.2053      0.573      0.358      0.720      -0.918       1.329\n",
      "ma.L3          0.5844      0.531      1.101      0.271      -0.456       1.625\n",
      "sigma2         0.0001   3.26e-05      3.337      0.001    4.48e-05       0.000\n",
      "===================================================================================\n",
      "Ljung-Box (L1) (Q):                   0.83   Jarque-Bera (JB):                 2.22\n",
      "Prob(Q):                              0.36   Prob(JB):                         0.33\n",
      "Heteroskedasticity (H):               0.16   Skew:                            -0.60\n",
      "Prob(H) (two-sided):                  0.00   Kurtosis:                         3.41\n",
      "===================================================================================\n",
      "\n",
      "Warnings:\n",
      "[1] Covariance matrix calculated using the outer product of gradients (complex-step).\n"
     ]
    }
   ],
   "source": [
    "# Fit model\n",
    "model1 = ARIMA(Data, order=(0,0,2))\n",
    "# Check diagnostics\n",
    "plt.figure(figsize = (20, 20))\n",
    "results1.plot_diagnostics()\n",
    "plt.show()\n",
    "print(results.summary())"
   ]
  },
  {
   "cell_type": "markdown",
   "id": "48abe7fa-97b4-4850-8c82-fa704cdcae8e",
   "metadata": {},
   "source": [
    "### Split Data into Training and Testing"
   ]
  },
  {
   "cell_type": "code",
   "execution_count": 106,
   "id": "a1ae8959-9649-4216-b962-5f0737ae7641",
   "metadata": {},
   "outputs": [],
   "source": [
    "#print(Data.shape)\n",
    "train = Data2_diff.loc[:'2018']\n",
    "test = Data2_diff.loc['2019':]\n",
    "#print(train.shape, test.shape)"
   ]
  },
  {
   "cell_type": "markdown",
   "id": "56d0050a-49b2-4c17-81de-28e7e2692408",
   "metadata": {},
   "source": [
    "Train the model:"
   ]
  },
  {
   "cell_type": "code",
   "execution_count": null,
   "id": "d160b7d6-6187-4fc0-8b0e-6d73b243a222",
   "metadata": {},
   "outputs": [],
   "source": [
    "model1 = ARIMA(train['Real GDP growth rate'], order = (0,0,2))\n",
    "model1= model1.fit()\n"
   ]
  },
  {
   "cell_type": "markdown",
   "id": "4503e9f0-e2c5-449b-a8e0-d421f478461a",
   "metadata": {},
   "source": [
    "### Make prediction on test set:"
   ]
  },
  {
   "cell_type": "code",
   "execution_count": 137,
   "id": "01898935-de1f-4327-ba13-ee2e06aea031",
   "metadata": {},
   "outputs": [
    {
     "name": "stdout",
     "output_type": "stream",
     "text": [
      "2018-12-31    0.063203\n",
      "Freq: A-DEC, dtype: float64\n"
     ]
    }
   ],
   "source": [
    "start1 = len(train)\n",
    "end1 = len(train) + len(test) -1\n",
    "pred1 = model.predict(start=start1, end=end1, type='level')\n",
    "print(pred1)"
   ]
  },
  {
   "cell_type": "code",
   "execution_count": null,
   "id": "581d8435-07b5-4fee-a296-71b5e30c4b39",
   "metadata": {},
   "outputs": [],
   "source": [
    "pred1.plot(legend=True)\n",
    "test['Real GDP growth rate'].plot(legend=True)"
   ]
  },
  {
   "cell_type": "code",
   "execution_count": 125,
   "id": "7ac4aa98-fa46-40d9-8f55-a21d93b2576b",
   "metadata": {},
   "outputs": [
    {
     "data": {
      "text/plain": [
       "Real GDP growth rate   -0.067\n",
       "dtype: float64"
      ]
     },
     "execution_count": 125,
     "metadata": {},
     "output_type": "execute_result"
    }
   ],
   "source": [
    "test.mean()"
   ]
  },
  {
   "cell_type": "code",
   "execution_count": 138,
   "id": "f5736276-4278-4e0a-983c-835b2ad281d8",
   "metadata": {},
   "outputs": [
    {
     "name": "stdout",
     "output_type": "stream",
     "text": [
      "0.13020262393485846\n"
     ]
    }
   ],
   "source": [
    "from sklearn.metrics import mean_squared_error\n",
    "from math import sqrt\n",
    "rmse = sqrt(mean_squared_error(pred1, test['Real GDP growth rate']))\n",
    "print(rmse) "
   ]
  },
  {
   "cell_type": "code",
   "execution_count": 146,
   "id": "39a21c0e-ebdd-4c16-85a9-7731f82a7886",
   "metadata": {},
   "outputs": [
    {
     "name": "stderr",
     "output_type": "stream",
     "text": [
      "c:\\users\\admin\\appdata\\local\\programs\\python\\python39\\lib\\site-packages\\statsmodels\\tsa\\base\\tsa_model.py:471: ValueWarning: No frequency information was provided, so inferred frequency A-DEC will be used.\n",
      "  self._init_dates(dates, freq)\n",
      "c:\\users\\admin\\appdata\\local\\programs\\python\\python39\\lib\\site-packages\\statsmodels\\tsa\\base\\tsa_model.py:471: ValueWarning: No frequency information was provided, so inferred frequency A-DEC will be used.\n",
      "  self._init_dates(dates, freq)\n",
      "c:\\users\\admin\\appdata\\local\\programs\\python\\python39\\lib\\site-packages\\statsmodels\\tsa\\base\\tsa_model.py:471: ValueWarning: No frequency information was provided, so inferred frequency A-DEC will be used.\n",
      "  self._init_dates(dates, freq)\n"
     ]
    },
    {
     "data": {
      "text/html": [
       "<div>\n",
       "<style scoped>\n",
       "    .dataframe tbody tr th:only-of-type {\n",
       "        vertical-align: middle;\n",
       "    }\n",
       "\n",
       "    .dataframe tbody tr th {\n",
       "        vertical-align: top;\n",
       "    }\n",
       "\n",
       "    .dataframe thead th {\n",
       "        text-align: right;\n",
       "    }\n",
       "</style>\n",
       "<table border=\"1\" class=\"dataframe\">\n",
       "  <thead>\n",
       "    <tr style=\"text-align: right;\">\n",
       "      <th></th>\n",
       "      <th>Real GDP growth rate</th>\n",
       "    </tr>\n",
       "    <tr>\n",
       "      <th>Date</th>\n",
       "      <th></th>\n",
       "    </tr>\n",
       "  </thead>\n",
       "  <tbody>\n",
       "    <tr>\n",
       "      <th>2015-12-31</th>\n",
       "      <td>0.006956</td>\n",
       "    </tr>\n",
       "    <tr>\n",
       "      <th>2016-12-31</th>\n",
       "      <td>-0.004685</td>\n",
       "    </tr>\n",
       "    <tr>\n",
       "      <th>2017-12-31</th>\n",
       "      <td>0.006014</td>\n",
       "    </tr>\n",
       "    <tr>\n",
       "      <th>2018-12-31</th>\n",
       "      <td>-0.002122</td>\n",
       "    </tr>\n",
       "    <tr>\n",
       "      <th>2019-12-31</th>\n",
       "      <td>-0.067000</td>\n",
       "    </tr>\n",
       "  </tbody>\n",
       "</table>\n",
       "</div>"
      ],
      "text/plain": [
       "            Real GDP growth rate\n",
       "Date                            \n",
       "2015-12-31              0.006956\n",
       "2016-12-31             -0.004685\n",
       "2017-12-31              0.006014\n",
       "2018-12-31             -0.002122\n",
       "2019-12-31             -0.067000"
      ]
     },
     "execution_count": 146,
     "metadata": {},
     "output_type": "execute_result"
    }
   ],
   "source": [
    "modelY = ARIMA(Data2_diff['Real GDP growth rate'], order=(0,0,2))\n",
    "modelY = modelY.fit()\n",
    "Data2_diff.tail() "
   ]
  },
  {
   "cell_type": "code",
   "execution_count": 147,
   "id": "cde118a0-4600-4ea6-a61a-30d4b84144a7",
   "metadata": {},
   "outputs": [
    {
     "name": "stdout",
     "output_type": "stream",
     "text": [
      "2019-12-31   -0.009905\n",
      "2020-12-31   -0.012614\n",
      "2021-12-31    0.031711\n",
      "2022-12-31   -0.000579\n",
      "2023-12-31   -0.000579\n",
      "2024-12-31   -0.000579\n",
      "Freq: A-DEC, Name: Arima1 Prediction, dtype: float64\n"
     ]
    }
   ],
   "source": [
    "pred1 = modelY.predict(start=len(Data2_diff)-1, end=len(Data2_diff)+4, typ='level').rename('Arima1 Prediction')\n",
    "print(pred1)"
   ]
  },
  {
   "cell_type": "code",
   "execution_count": 148,
   "id": "9da61143-8890-471b-aba6-a9e6a8120595",
   "metadata": {},
   "outputs": [
    {
     "data": {
      "text/plain": [
       "<AxesSubplot:>"
      ]
     },
     "execution_count": 148,
     "metadata": {},
     "output_type": "execute_result"
    },
    {
     "data": {
      "image/png": "[encoded data removed]",
      "text/plain": [
       "<Figure size 864x360 with 1 Axes>"
      ]
     },
     "metadata": {
      "needs_background": "light"
     },
     "output_type": "display_data"
    }
   ],
   "source": [
    "pred1.plot(figsize=(12,5), legend=True)"
   ]
  },
  {
   "cell_type": "code",
   "execution_count": 161,
   "id": "3a761233-d7f9-4217-9714-c3f68dee6c6f",
   "metadata": {},
   "outputs": [
    {
     "data": {
      "image/png": "[encoded data removed]",
      "text/plain": [
       "<Figure size 432x288 with 1 Axes>"
      ]
     },
     "metadata": {
      "needs_background": "light"
     },
     "output_type": "display_data"
    }
   ],
   "source": [
    "plt.plot(Data2_diff, label='Raw')\n",
    "plt.plot(pred1, color='r', label='Predict')\n",
    "plt.title('Predict to 2024')\n",
    "leg = plt.legend(loc='upper right')\n",
    "plt.show()"
   ]
  },
  {
   "cell_type": "markdown",
   "id": "7a85b3c9-d5c2-4650-bb61-c1fcca107e18",
   "metadata": {},
   "source": [
    "### PREDICT RESULTS:\n",
    "The GDP growth rate of 2020 = -0.012614 (-1,26%), The GDP growth rate of 2021 = 0.031711(0,3%)"
   ]
  },
  {
   "cell_type": "code",
   "execution_count": null,
   "id": "87330f8d-dcb1-4883-acc6-8f9b3ab91d93",
   "metadata": {},
   "outputs": [],
   "source": []
  }
 ],
 "metadata": {
  "kernelspec": {
   "display_name": "Python 3 (ipykernel)",
   "language": "python",
   "name": "python3"
  },
  "language_info": {
   "codemirror_mode": {
    "name": "ipython",
    "version": 3
   },
   "file_extension": ".py",
   "mimetype": "text/x-python",
   "name": "python",
   "nbconvert_exporter": "python",
   "pygments_lexer": "ipython3",
   "version": "3.9.5"
  }
 },
 "nbformat": 4,
 "nbformat_minor": 5
}
